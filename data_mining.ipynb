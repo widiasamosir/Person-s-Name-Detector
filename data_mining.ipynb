{
 "cells": [
  {
   "cell_type": "markdown",
   "metadata": {},
   "source": [
    "# Extracting data from ttl files"
   ]
  },
  {
   "cell_type": "code",
   "execution_count": 1,
   "metadata": {},
   "outputs": [],
   "source": [
    "from collections import Counter\n",
    "from tqdm import tqdm\n",
    "import numpy as np\n",
    "import re"
   ]
  },
  {
   "cell_type": "code",
   "execution_count": 2,
   "metadata": {},
   "outputs": [],
   "source": [
    "with open('data/instance_types_transitive_wkd_uris_en.ttl', 'r', encoding='utf-8') as f:\n",
    "    text1 = f.read()"
   ]
  },
  {
   "cell_type": "code",
   "execution_count": 3,
   "metadata": {},
   "outputs": [],
   "source": [
    "triplets_instance = text1.split('\\n')[1:-2]"
   ]
  },
  {
   "cell_type": "markdown",
   "metadata": {},
   "source": [
    "# Obtaining set of identifiers from ontology groups"
   ]
  },
  {
   "cell_type": "code",
   "execution_count": 4,
   "metadata": {},
   "outputs": [],
   "source": [
    "q_id = set()\n",
    "r_q = r'dbpedia.org/resource/(.*?)>'\n",
    "\n",
    "for triplet in triplets_instance:\n",
    "    if '/Person>' in triplet:\n",
    "        q_id.add(re.search(r_q,triplet).group(1))\n",
    "        \n",
    "q_id = np.array(list(q_id))"
   ]
  },
  {
   "cell_type": "code",
   "execution_count": 5,
   "metadata": {},
   "outputs": [],
   "source": [
    "del(triplets_instance)\n",
    "del(text1)"
   ]
  },
  {
   "cell_type": "code",
   "execution_count": 6,
   "metadata": {},
   "outputs": [],
   "source": [
    "with open('data/mappingbased_literals_wkd_uris_en.ttl', 'r', encoding='utf-8') as f:\n",
    "    text2 = f.read()"
   ]
  },
  {
   "cell_type": "code",
   "execution_count": 7,
   "metadata": {},
   "outputs": [],
   "source": [
    "triplets_names = text2.split('\\n')[1:-2]"
   ]
  },
  {
   "cell_type": "markdown",
   "metadata": {},
   "source": [
    "# Creating dictionary (identifier-name)"
   ]
  },
  {
   "cell_type": "code",
   "execution_count": 8,
   "metadata": {},
   "outputs": [
    {
     "name": "stderr",
     "output_type": "stream",
     "text": [
      "100%|██████████| 10841856/10841856 [00:47<00:00, 225895.59it/s]\n"
     ]
    }
   ],
   "source": [
    "r_names = r'/name> \"([A-Za-z\\.\\-\\' ]*)\"@en'\n",
    "r_q = r'dbpedia.org/resource/(.*?)>'\n",
    "q2name = dict()\n",
    "for triplet in tqdm(triplets_names):\n",
    "    name = re.search(r_names, triplet)\n",
    "    q_group = re.search(r_q,triplet)\n",
    "    \n",
    "    if name is not None:\n",
    "        q2name[q_group.group(1)] = name.group(1)    \n"
   ]
  },
  {
   "cell_type": "code",
   "execution_count": 9,
   "metadata": {},
   "outputs": [],
   "source": [
    "del(text2)\n",
    "del(triplets_names)"
   ]
  },
  {
   "cell_type": "markdown",
   "metadata": {},
   "source": [
    "# Extracting names of persons using identifiers from ontology groups"
   ]
  },
  {
   "cell_type": "code",
   "execution_count": 10,
   "metadata": {},
   "outputs": [
    {
     "name": "stderr",
     "output_type": "stream",
     "text": [
      "100%|██████████| 917509/917509 [00:01<00:00, 536630.23it/s]\n"
     ]
    }
   ],
   "source": [
    "person_names = []\n",
    "for group in tqdm(q_id):\n",
    "    try:\n",
    "        person_names.append(q2name[group])\n",
    "        q2name.pop(group)\n",
    "    except:\n",
    "        pass\n",
    "# Other names are considered non person entities\n",
    "non_person_names = q2name.values()"
   ]
  },
  {
   "cell_type": "code",
   "execution_count": 11,
   "metadata": {},
   "outputs": [
    {
     "name": "stdout",
     "output_type": "stream",
     "text": [
      "645405\n"
     ]
    },
    {
     "data": {
      "text/plain": [
       "[('unknown', 171),\n",
       " ('Saint', 51),\n",
       " ('Governor', 49),\n",
       " ('John Smith', 48),\n",
       " ('Blessed', 38),\n",
       " ('John Williams', 31),\n",
       " ('William Smith', 31),\n",
       " ('John Brown', 30),\n",
       " ('William', 29),\n",
       " ('Venerable', 29)]"
      ]
     },
     "execution_count": 11,
     "metadata": {},
     "output_type": "execute_result"
    }
   ],
   "source": [
    "print(len(set(person_names)))\n",
    "Counter(person_names).most_common(10)"
   ]
  },
  {
   "cell_type": "code",
   "execution_count": 12,
   "metadata": {},
   "outputs": [
    {
     "name": "stdout",
     "output_type": "stream",
     "text": [
      "1189451\n"
     ]
    },
    {
     "data": {
      "text/plain": [
       "[('Pennsylvania', 634),\n",
       " (\"''\", 319),\n",
       " ('Greatest Hits', 317),\n",
       " ('Aliabad', 246),\n",
       " ('Hoseynabad', 199),\n",
       " ('Grand National', 174),\n",
       " ('Hasanabad', 161),\n",
       " ('Hajjiabad', 157),\n",
       " ('Mohammadabad', 150),\n",
       " ('Buddleja davidii', 144)]"
      ]
     },
     "execution_count": 12,
     "metadata": {},
     "output_type": "execute_result"
    }
   ],
   "source": [
    "print(len(set(non_person_names)))\n",
    "Counter(non_person_names).most_common(10)"
   ]
  },
  {
   "cell_type": "markdown",
   "metadata": {},
   "source": [
    "# Saving extracted names into text files to preprocess later"
   ]
  },
  {
   "cell_type": "code",
   "execution_count": 13,
   "metadata": {},
   "outputs": [],
   "source": [
    "def write_txt(file, arr):\n",
    "    for string in arr:\n",
    "        file.write(string+'\\n')\n",
    "    print('file saved')"
   ]
  },
  {
   "cell_type": "code",
   "execution_count": 14,
   "metadata": {},
   "outputs": [
    {
     "name": "stdout",
     "output_type": "stream",
     "text": [
      "file saved\n",
      "file saved\n"
     ]
    }
   ],
   "source": [
    "file_person_names = open('persons.txt', 'w', encoding='utf-8')\n",
    "file_other_names = open('entities.txt','w', encoding='utf-8')\n",
    "\n",
    "write_txt(file_person_names, person_names)\n",
    "write_txt(file_other_names, non_person_names)\n",
    "\n",
    "file_person_names.close()\n",
    "file_other_names.close()"
   ]
  },
  {
   "cell_type": "code",
   "execution_count": 15,
   "metadata": {},
   "outputs": [],
   "source": [
    "with open('persons.txt', 'r', encoding='utf-8') as f:\n",
    "    array_per = f.read().split('\\n')"
   ]
  },
  {
   "cell_type": "code",
   "execution_count": null,
   "metadata": {},
   "outputs": [],
   "source": []
  }
 ],
 "metadata": {
  "kernelspec": {
   "display_name": "Python 3",
   "language": "python",
   "name": "python3"
  },
  "language_info": {
   "codemirror_mode": {
    "name": "ipython",
    "version": 3
   },
   "file_extension": ".py",
   "mimetype": "text/x-python",
   "name": "python",
   "nbconvert_exporter": "python",
   "pygments_lexer": "ipython3",
   "version": "3.7.6"
  }
 },
 "nbformat": 4,
 "nbformat_minor": 4
}
